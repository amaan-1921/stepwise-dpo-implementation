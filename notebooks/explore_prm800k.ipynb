{
 "cells": [
  {
   "cell_type": "markdown",
   "id": "88b6722f",
   "metadata": {},
   "source": [
    "## Cell 1: Install/Import"
   ]
  },
  {
   "cell_type": "code",
   "execution_count": 6,
   "id": "2904326f",
   "metadata": {},
   "outputs": [],
   "source": [
    "from datasets import load_dataset\n",
    "import pprint\n",
    "import re\n",
    "from typing import List"
   ]
  },
  {
   "cell_type": "markdown",
   "id": "e4497d47",
   "metadata": {},
   "source": [
    "## Cell 2: Load the Dataset"
   ]
  },
  {
   "cell_type": "code",
   "execution_count": 7,
   "id": "c03288b7",
   "metadata": {},
   "outputs": [],
   "source": [
    "# Load the prm800k dataset (aka Intel/orca_dpo_pairs)\n",
    "dataset = load_dataset(\"Intel/orca_dpo_pairs\", split=\"train\")"
   ]
  },
  {
   "cell_type": "markdown",
   "id": "c65df17b",
   "metadata": {},
   "source": [
    "## Cell 3: Preview Few Samples"
   ]
  },
  {
   "cell_type": "code",
   "execution_count": 8,
   "id": "ea9e5de2",
   "metadata": {},
   "outputs": [
    {
     "name": "stdout",
     "output_type": "stream",
     "text": [
      "\n",
      "--- Example 1 ---\n",
      "Prompt: You will be given a definition of a task first, then some input of the task.\n",
      "This task is about using the specified sentence and converting the sentence to Resource Description Framework (RDF) triplets of the form (subject, predicate object). The RDF triplets generated must be such that the triplets accurately capture the structure and semantics of the input sentence. The input is a sentence and the output is a list of triplets of the form [subject, predicate, object] that capture the relationships present in the sentence. When a sentence has more than 1 RDF triplet possible, the output must contain all of them.\n",
      "\n",
      "AFC Ajax (amateurs)'s ground is Sportpark De Toekomst where Ajax Youth Academy also play.\n",
      "Output:\n",
      "\n",
      "Chosen Response (first 300 chars):\n",
      "[\n",
      "  [\"AFC Ajax (amateurs)\", \"has ground\", \"Sportpark De Toekomst\"],\n",
      "  [\"Ajax Youth Academy\", \"plays at\", \"Sportpark De Toekomst\"]\n",
      "]\n",
      "\n",
      "Rejected Response (first 300 chars):\n",
      " Sure, I'd be happy to help! Here are the RDF triplets for the input sentence:\n",
      "\n",
      "[AFC Ajax (amateurs), hasGround, Sportpark De Toekomst]\n",
      "[Ajax Youth Academy, playsAt, Sportpark De Toekomst]\n",
      "\n",
      "Explanation:\n",
      "\n",
      "* AFC Ajax (amateurs) is the subject of the first triplet, and hasGround is the predicate that d\n",
      "\n",
      "--- Example 2 ---\n",
      "Prompt: Generate an approximately fifteen-word sentence that describes all this data: Midsummer House eatType restaurant; Midsummer House food Chinese; Midsummer House priceRange moderate; Midsummer House customer rating 3 out of 5; Midsummer House near All Bar One\n",
      "\n",
      "Chosen Response (first 300 chars):\n",
      "Midsummer House is a moderately priced Chinese restaurant with a 3/5 customer rating, located near All Bar One.\n",
      "\n",
      "Rejected Response (first 300 chars):\n",
      " Sure! Here's a sentence that describes all the data you provided:\n",
      "\n",
      "\"Midsummer House is a moderately priced Chinese restaurant with a customer rating of 3 out of 5, located near All Bar One, offering a variety of delicious dishes.\"\n"
     ]
    }
   ],
   "source": [
    "# Show 2 examples to see the structure\n",
    "for i in range(2):\n",
    "    sample = dataset[i]\n",
    "    print(f\"\\n--- Example {i+1} ---\")\n",
    "    print(f\"Prompt: {sample['question']}\")\n",
    "    print(\"\\nChosen Response (first 300 chars):\")\n",
    "    print(sample['chosen'][:300])\n",
    "    print(\"\\nRejected Response (first 300 chars):\")\n",
    "    print(sample['rejected'][:300])"
   ]
  },
  {
   "cell_type": "markdown",
   "id": "21fb59af",
   "metadata": {},
   "source": [
    "## Cell 4: Split Answer into Steps"
   ]
  },
  {
   "cell_type": "code",
   "execution_count": 9,
   "id": "fa047e89",
   "metadata": {},
   "outputs": [
    {
     "name": "stdout",
     "output_type": "stream",
     "text": [
      "Chosen Reasoning Steps:\n",
      "['[\\n'\n",
      " '  [\"AFC Ajax (amateurs)\", \"has ground\", \"Sportpark De Toekomst\"],\\n'\n",
      " '  [\"Ajax Youth Academy\", \"plays at\", \"Sportpark De Toekomst\"]\\n'\n",
      " ']']\n",
      "\n",
      "Rejected Reasoning Steps:\n",
      "[\"Sure, I'd be happy to help! Here are the RDF triplets for the input \"\n",
      " 'sentence:\\n'\n",
      " '\\n'\n",
      " '[AFC Ajax (amateurs), hasGround, Sportpark De Toekomst]\\n'\n",
      " '[Ajax Youth Academy, playsAt, Sportpark De Toekomst]\\n'\n",
      " '\\n'\n",
      " 'Explanation:\\n'\n",
      " '\\n'\n",
      " '* AFC Ajax (amateurs) is the subject of the first triplet, and hasGround is '\n",
      " 'the predicate that describes the relationship between AFC Ajax (amateurs) '\n",
      " 'and Sportpark De Toekomst.\\n'\n",
      " '* Ajax Youth Academy is the subject of the second triplet, and playsAt is '\n",
      " 'the predicate that describes the relationship between Ajax Youth Academy and '\n",
      " 'Sportpark De Toekomst.',\n",
      " 'Note that there may be other possible RDF triplets that could be derived '\n",
      " 'from the input sentence, but the above triplets capture the main '\n",
      " 'relationships present in the sentence.']\n"
     ]
    }
   ],
   "source": [
    "def split_into_steps(text: str) -> List[str]:\n",
    "    \"\"\"\n",
    "    Naive step splitting: split by newlines or sentences.\n",
    "    You can refine this later using LLMs or logic.\n",
    "    \"\"\"\n",
    "    steps = re.split(r'(?<=\\.)\\s+(?=[A-Z])', text.strip())\n",
    "    return [s.strip() for s in steps if s.strip()]\n",
    "\n",
    "# Try it on one chosen response\n",
    "chosen_steps = split_into_steps(dataset[0]['chosen'])\n",
    "rejected_steps = split_into_steps(dataset[0]['rejected'])\n",
    "\n",
    "print(\"Chosen Reasoning Steps:\")\n",
    "pprint.pprint(chosen_steps[:5])\n",
    "\n",
    "print(\"\\nRejected Reasoning Steps:\")\n",
    "pprint.pprint(rejected_steps[:5])\n"
   ]
  }
 ],
 "metadata": {
  "kernelspec": {
   "display_name": ".venv",
   "language": "python",
   "name": "python3"
  },
  "language_info": {
   "codemirror_mode": {
    "name": "ipython",
    "version": 3
   },
   "file_extension": ".py",
   "mimetype": "text/x-python",
   "name": "python",
   "nbconvert_exporter": "python",
   "pygments_lexer": "ipython3",
   "version": "3.10.0"
  }
 },
 "nbformat": 4,
 "nbformat_minor": 5
}
